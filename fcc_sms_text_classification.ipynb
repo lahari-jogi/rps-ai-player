{
  "cells": [
    {
      "cell_type": "code",
      "execution_count": null,
      "metadata": {
        "id": "8RZOuS9LWQvv"
      },
      "outputs": [],
      "source": [
        "# import libraries\n",
        "try:\n",
        "  # %tensorflow_version only exists in Colab.\n",
        "  !pip install tf-nightly\n",
        "except Exception:\n",
        "  pass\n",
        "import tensorflow as tf\n",
        "import pandas as pd\n",
        "from tensorflow import keras\n",
        "!pip install tensorflow-datasets\n",
        "import tensorflow_datasets as tfds\n",
        "import numpy as np\n",
        "import matplotlib.pyplot as plt\n",
        "\n",
        "print(tf.__version__)"
      ]
    },
    {
      "cell_type": "code",
      "execution_count": null,
      "metadata": {
        "id": "lMHwYXHXCar3"
      },
      "outputs": [],
      "source": [
        "# get data files\n",
        "!wget https://cdn.freecodecamp.org/project-data/sms/train-data.tsv\n",
        "!wget https://cdn.freecodecamp.org/project-data/sms/valid-data.tsv\n",
        "\n",
        "train_file_path = \"train-data.tsv\"\n",
        "test_file_path = \"valid-data.tsv\""
      ]
    },
    {
      "cell_type": "code",
      "execution_count": null,
      "metadata": {
        "id": "g_h508FEClxO"
      },
      "outputs": [],
      "source": [
        "# 1️⃣ Imports\n",
        "import pandas as pd\n",
        "import numpy as np\n",
        "import tensorflow as tf\n",
        "from tensorflow.keras import layers  # <-- This line is critical!\n",
        "\n",
        "# 2️⃣ Load the data\n",
        "train_data = pd.read_csv(train_file_path, sep='\\t', header=None, names=['label', 'message'])\n",
        "test_data = pd.read_csv(test_file_path, sep='\\t', header=None, names=['label', 'message'])\n",
        "\n",
        "# 3️⃣ Convert labels: 'ham' -> 0, 'spam' -> 1\n",
        "train_data['label'] = train_data['label'].map({'ham': 0, 'spam': 1})\n",
        "test_data['label'] = test_data['label'].map({'ham': 0, 'spam': 1})\n",
        "\n",
        "# 4️⃣ Vectorize text\n",
        "max_vocab_size = 10000\n",
        "max_sequence_length = 100\n",
        "\n",
        "vectorizer = layers.TextVectorization(\n",
        "    max_tokens=max_vocab_size,\n",
        "    output_mode='int',\n",
        "    output_sequence_length=max_sequence_length\n",
        ")\n",
        "\n",
        "# 5️⃣ Adapt vectorizer on training data\n",
        "vectorizer.adapt(train_data['message'])\n",
        "\n",
        "# 6️⃣ Vectorize text\n",
        "X_train = vectorizer(train_data['message'])\n",
        "X_test = vectorizer(test_data['message'])\n",
        "\n",
        "y_train = np.array(train_data['label'])\n",
        "y_test = np.array(test_data['label'])\n",
        "\n",
        "# 7️⃣ Build the model\n",
        "model = tf.keras.Sequential([\n",
        "    layers.Embedding(input_dim=max_vocab_size, output_dim=32),\n",
        "    layers.GlobalAveragePooling1D(),\n",
        "    layers.Dense(24, activation='relu'),\n",
        "    layers.Dense(1, activation='sigmoid')\n",
        "])\n",
        "\n",
        "# 8️⃣ Compile the model\n",
        "model.compile(loss='binary_crossentropy', optimizer='adam', metrics=['accuracy'])\n",
        "\n",
        "# 9️⃣ Train the model\n",
        "model.fit(X_train, y_train, epochs=10, validation_data=(X_test, y_test), verbose=2)\n",
        "\n",
        "# 🔟 Define predict_message function\n",
        "def predict_message(msg):\n",
        "    vectorized_msg = vectorizer([msg])\n",
        "    prediction = model.predict(vectorized_msg)[0][0]\n",
        "    label = \"spam\" if prediction >= 0.5 else \"ham\"\n",
        "    return [float(prediction), label]\n"
      ]
    },
    {
      "cell_type": "code",
      "execution_count": null,
      "metadata": {
        "id": "zOMKywn4zReN"
      },
      "outputs": [],
      "source": []
    },
    {
      "cell_type": "code",
      "execution_count": null,
      "metadata": {
        "id": "J9tD9yACG6M9"
      },
      "outputs": [],
      "source": [
        "# function to predict messages based on model\n",
        "# (should return list containing prediction and label, e.g. [0.008318834938108921, 'ham'])\n",
        "def predict_message(pred_text):\n",
        "    # Vectorize the input message\n",
        "    vectorized_text = vectorizer([pred_text])\n",
        "\n",
        "    # Make a prediction\n",
        "    prediction = model.predict(vectorized_text, verbose=0)[0][0]  # get the scalar probability\n",
        "\n",
        "    # Determine label\n",
        "    label = 'spam' if prediction >= 0.5 else 'ham'\n",
        "\n",
        "    # Return result in required format\n",
        "    return [float(prediction), label]\n",
        "\n",
        "# Example usage\n",
        "pred_text = \"how are you doing today?\"\n",
        "prediction = predict_message(pred_text)\n",
        "print(prediction)\n"
      ]
    },
    {
      "cell_type": "code",
      "execution_count": null,
      "metadata": {
        "id": "Dxotov85SjsC"
      },
      "outputs": [],
      "source": [
        "# Run this cell to test your function and model. Do not modify contents.\n",
        "def test_predictions():\n",
        "  test_messages = [\"how are you doing today\",\n",
        "                   \"sale today! to stop texts call 98912460324\",\n",
        "                   \"i dont want to go. can we try it a different day? available sat\",\n",
        "                   \"our new mobile video service is live. just install on your phone to start watching.\",\n",
        "                   \"you have won £1000 cash! call to claim your prize.\",\n",
        "                   \"i'll bring it tomorrow. don't forget the milk.\",\n",
        "                   \"wow, is your arm alright. that happened to me one time too\"\n",
        "                  ]\n",
        "\n",
        "  test_answers = [\"ham\", \"spam\", \"ham\", \"spam\", \"spam\", \"ham\", \"ham\"]\n",
        "  passed = True\n",
        "\n",
        "  for msg, ans in zip(test_messages, test_answers):\n",
        "    prediction = predict_message(msg)\n",
        "    if prediction[1] != ans:\n",
        "      passed = False\n",
        "\n",
        "  if passed:\n",
        "    print(\"You passed the challenge. Great job!\")\n",
        "  else:\n",
        "    print(\"You haven't passed yet. Keep trying.\")\n",
        "\n",
        "test_predictions()\n"
      ]
    }
  ],
  "metadata": {
    "colab": {
      "name": "fcc_sms_text_classification.ipynb",
      "private_outputs": true,
      "provenance": [],
      "toc_visible": true
    },
    "kernelspec": {
      "display_name": "Python 3",
      "name": "python3"
    },
    "language_info": {}
  },
  "nbformat": 4,
  "nbformat_minor": 0
}