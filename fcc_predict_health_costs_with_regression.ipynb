{
  "cells": [
    {
      "cell_type": "code",
      "execution_count": null,
      "metadata": {
        "id": "1rRo8oNqZ-Rj"
      },
      "outputs": [],
      "source": [
        "# Import libraries. You may or may not use all of these.\n",
        "!pip install -q git+https://github.com/tensorflow/docs\n",
        "import matplotlib.pyplot as plt\n",
        "import numpy as np\n",
        "import pandas as pd\n",
        "\n",
        "try:\n",
        "  # %tensorflow_version only exists in Colab.\n",
        "  %tensorflow_version 2.x\n",
        "except Exception:\n",
        "  pass\n",
        "import tensorflow as tf\n",
        "\n",
        "from tensorflow import keras\n",
        "from tensorflow.keras import layers\n",
        "\n",
        "import tensorflow_docs as tfdocs\n",
        "import tensorflow_docs.plots\n",
        "import tensorflow_docs.modeling"
      ]
    },
    {
      "cell_type": "code",
      "execution_count": null,
      "metadata": {
        "id": "CiX2FI4gZtTt"
      },
      "outputs": [],
      "source": [
        "# Import data\n",
        "!wget https://cdn.freecodecamp.org/project-data/health-costs/insurance.csv\n",
        "dataset = pd.read_csv('insurance.csv')\n",
        "dataset.tail()"
      ]
    },
    {
      "cell_type": "code",
      "execution_count": null,
      "metadata": {
        "id": "LcopvQh3X-kX"
      },
      "outputs": [],
      "source": [
        "import pandas as pd\n",
        "\n",
        "# Load the dataset\n",
        "df = pd.read_csv('insurance.csv')  # Replace 'insurance.csv' with your correct file path if different\n",
        "print(df.head())\n"
      ]
    },
    {
      "cell_type": "code",
      "source": [
        "import pandas as pd\n",
        "import numpy as np\n",
        "import matplotlib.pyplot as plt\n",
        "from sklearn.model_selection import train_test_split\n",
        "from sklearn.preprocessing import LabelEncoder\n",
        "from sklearn.ensemble import RandomForestRegressor\n",
        "from sklearn.metrics import mean_absolute_error\n",
        "\n",
        "# 1. Load the dataset\n",
        "df = pd.read_csv('insurance.csv')\n",
        "\n",
        "# 2. Encode categorical data\n",
        "df_encoded = df.copy()\n",
        "\n",
        "# Label encode 'sex' and 'smoker'\n",
        "le_sex = LabelEncoder()\n",
        "df_encoded['sex'] = le_sex.fit_transform(df_encoded['sex'])\n",
        "\n",
        "le_smoker = LabelEncoder()\n",
        "df_encoded['smoker'] = le_smoker.fit_transform(df_encoded['smoker'])\n",
        "\n",
        "# One-hot encode 'region'\n",
        "df_encoded = pd.get_dummies(df_encoded, columns=['region'], drop_first=True)\n",
        "\n",
        "# 3. Split into train and test datasets (80/20)\n",
        "train_dataset, test_dataset = train_test_split(df_encoded, test_size=0.2, random_state=42)\n",
        "\n",
        "# 4. Pop off the labels\n",
        "train_labels = train_dataset.pop('expenses')\n",
        "test_labels = test_dataset.pop('expenses')\n",
        "\n",
        "# 5. Create and train the model\n",
        "model = RandomForestRegressor(n_estimators=100, random_state=42)\n",
        "model.fit(train_dataset, train_labels)\n",
        "\n",
        "# 6. Evaluate the model\n",
        "test_predictions = model.predict(test_dataset)\n",
        "mae = mean_absolute_error(test_labels, test_predictions)\n",
        "print(f\"Mean Absolute Error on test set: ${mae:.2f}\")\n",
        "\n",
        "# 7. Plot predictions\n",
        "plt.figure(figsize=(10, 6))\n",
        "plt.scatter(test_labels, test_predictions, alpha=0.5)\n",
        "plt.plot([0, max(test_labels)], [0, max(test_labels)], 'r--')\n",
        "plt.xlabel('Actual Expenses')\n",
        "plt.ylabel('Predicted Expenses')\n",
        "plt.title('Actual vs Predicted Expenses')\n",
        "plt.show()\n"
      ],
      "metadata": {
        "id": "Qm4b9KMToZyU"
      },
      "execution_count": null,
      "outputs": []
    },
    {
      "cell_type": "code",
      "execution_count": null,
      "metadata": {
        "id": "Xe7RXH3N3CWU"
      },
      "outputs": [],
      "source": [
        "from sklearn.metrics import mean_squared_error, mean_absolute_error\n",
        "import numpy as np\n",
        "import matplotlib.pyplot as plt\n",
        "\n",
        "# Predict on test data\n",
        "test_predictions = model.predict(test_dataset)\n",
        "\n",
        "# Calculate metrics\n",
        "mae = mean_absolute_error(test_labels, test_predictions)\n",
        "mse = mean_squared_error(test_labels, test_predictions)\n",
        "loss = np.sqrt(mse)  # RMSE\n",
        "\n",
        "# Output result\n",
        "print(\"Testing set Mean Abs Error: {:5.2f} expenses\".format(mae))\n",
        "\n",
        "if mae < 3500:\n",
        "  print(\"You passed the challenge. Great job! 🎉\")\n",
        "else:\n",
        "  print(\"The Mean Abs Error must be less than 3500. Keep trying.\")\n",
        "\n",
        "# Plot predictions\n",
        "test_predictions = test_predictions.flatten()\n",
        "a = plt.axes(aspect='equal')\n",
        "plt.scatter(test_labels, test_predictions)\n",
        "plt.xlabel('True values (expenses)')\n",
        "plt.ylabel('Predictions (expenses)')\n",
        "lims = [0, 50000]\n",
        "plt.xlim(lims)\n",
        "plt.ylim(lims)\n",
        "_ = plt.plot(lims, lims)\n"
      ]
    }
  ],
  "metadata": {
    "colab": {
      "name": "fcc_predict_health_costs_with_regression.ipynb",
      "private_outputs": true,
      "provenance": [],
      "toc_visible": true
    },
    "kernelspec": {
      "display_name": "Python 3",
      "name": "python3"
    }
  },
  "nbformat": 4,
  "nbformat_minor": 0
}