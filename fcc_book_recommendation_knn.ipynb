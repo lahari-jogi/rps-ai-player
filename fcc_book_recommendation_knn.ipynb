{
  "cells": [
    {
      "cell_type": "code",
      "execution_count": null,
      "metadata": {
        "id": "Y1onB6kUvo4Z"
      },
      "outputs": [],
      "source": [
        "# import libraries (you may add additional imports but you may not have to)\n",
        "import numpy as np\n",
        "import pandas as pd\n",
        "from scipy.sparse import csr_matrix\n",
        "from sklearn.neighbors import NearestNeighbors\n",
        "import matplotlib.pyplot as plt"
      ]
    },
    {
      "cell_type": "code",
      "execution_count": null,
      "metadata": {
        "id": "iAQGqqO_vo4d"
      },
      "outputs": [],
      "source": [
        "# get data files\n",
        "!wget https://cdn.freecodecamp.org/project-data/books/book-crossings.zip\n",
        "\n",
        "!unzip book-crossings.zip\n",
        "\n",
        "books_filename = 'BX-Books.csv'\n",
        "ratings_filename = 'BX-Book-Ratings.csv'"
      ]
    },
    {
      "cell_type": "code",
      "execution_count": null,
      "metadata": {
        "id": "NClILWOiEd6Q"
      },
      "outputs": [],
      "source": [
        "# import csv data into dataframes\n",
        "df_books = pd.read_csv(\n",
        "    books_filename,\n",
        "    encoding = \"ISO-8859-1\",\n",
        "    sep=\";\",\n",
        "    header=0,\n",
        "    names=['isbn', 'title', 'author'],\n",
        "    usecols=['isbn', 'title', 'author'],\n",
        "    dtype={'isbn': 'str', 'title': 'str', 'author': 'str'})\n",
        "\n",
        "df_ratings = pd.read_csv(\n",
        "    ratings_filename,\n",
        "    encoding = \"ISO-8859-1\",\n",
        "    sep=\";\",\n",
        "    header=0,\n",
        "    names=['user', 'isbn', 'rating'],\n",
        "    usecols=['user', 'isbn', 'rating'],\n",
        "    dtype={'user': 'int32', 'isbn': 'str', 'rating': 'float32'})"
      ]
    },
    {
      "cell_type": "code",
      "execution_count": 10,
      "metadata": {
        "id": "xAcXjkCFCh0A",
        "colab": {
          "base_uri": "https://localhost:8080/",
          "height": 35
        },
        "outputId": "cb2af96b-f8a6-4734-bed1-d1101c3a0718"
      },
      "outputs": [
        {
          "output_type": "execute_result",
          "data": {
            "text/plain": [
              "\"Book 'The Queen of the Damned (Vampire Chronicles (Paperback))' not found in pivot table.\""
            ],
            "application/vnd.google.colaboratory.intrinsic+json": {
              "type": "string"
            }
          },
          "metadata": {},
          "execution_count": 10
        }
      ],
      "source": [
        "# 1️⃣ Filter Users with >= 200 Ratings\n",
        "user_counts = df_ratings['user'].value_counts()\n",
        "active_users = user_counts[user_counts >= 200].index\n",
        "df_ratings = df_ratings[df_ratings['user'].isin(active_users)]\n",
        "\n",
        "# 2️⃣ Filter Books with >= 100 Ratings\n",
        "book_counts = df_ratings['isbn'].value_counts()\n",
        "popular_books = book_counts[book_counts >= 100].index\n",
        "df_ratings = df_ratings[df_ratings['isbn'].isin(popular_books)]\n",
        "\n",
        "# 3️⃣ Create User-Book Pivot Table\n",
        "user_book_matrix = df_ratings.pivot_table(index='isbn', columns='user', values='rating').fillna(0)\n",
        "\n",
        "# 4️⃣ Map ISBN to Book Title\n",
        "book_titles = df_books.set_index('isbn')['title']\n",
        "\n",
        "# 5️⃣ Fit Nearest Neighbors Model\n",
        "from sklearn.neighbors import NearestNeighbors\n",
        "model = NearestNeighbors(metric='cosine', algorithm='brute')\n",
        "model.fit(user_book_matrix.values)\n",
        "\n",
        "# 6️⃣ Define get_recommends() Function\n",
        "def get_recommends(book_title):\n",
        "    try:\n",
        "        isbn = df_books[df_books['title'] == book_title]['isbn'].values[0]\n",
        "    except IndexError:\n",
        "        return f\"Book '{book_title}' not found in dataset.\"\n",
        "\n",
        "    try:\n",
        "        book_idx = user_book_matrix.index.tolist().index(isbn)\n",
        "    except ValueError:\n",
        "        return f\"Book '{book_title}' not found in pivot table.\"\n",
        "\n",
        "    distances, indices = model.kneighbors(\n",
        "        user_book_matrix.iloc[book_idx, :].values.reshape(1, -1), n_neighbors=6\n",
        "    )\n",
        "\n",
        "    recommended_books = []\n",
        "    for i in range(1, 6):\n",
        "        neighbor_isbn = user_book_matrix.index[indices[0][i]]\n",
        "        neighbor_title = book_titles[neighbor_isbn]\n",
        "        distance = distances[0][i]\n",
        "        recommended_books.append([neighbor_title, distance])\n",
        "\n",
        "    return [book_title, recommended_books]\n",
        "\n",
        "# 7️⃣ Test the Function\n",
        "get_recommends(\"The Queen of the Damned (Vampire Chronicles (Paperback))\")\n"
      ]
    },
    {
      "cell_type": "code",
      "execution_count": 11,
      "metadata": {
        "id": "f5ZUd-L1SQz7"
      },
      "outputs": [],
      "source": [
        "# function to return recommended books - this will be tested\n",
        "def get_recommends(book = \"\"):\n",
        "\n",
        "\n",
        "  return recommended_books"
      ]
    },
    {
      "cell_type": "code",
      "execution_count": 13,
      "metadata": {
        "id": "jd2SLCh8oxMh"
      },
      "outputs": [],
      "source": [
        "def get_recommends(book_title):\n",
        "    try:\n",
        "        isbn = df_books[df_books['title'] == book_title]['isbn'].values[0]\n",
        "    except IndexError:\n",
        "        return f\"Book '{book_title}' not found in dataset.\"\n",
        "\n",
        "    try:\n",
        "        book_idx = user_book_matrix.index.tolist().index(isbn)\n",
        "    except ValueError:\n",
        "        return f\"Book '{book_title}' not found in pivot table.\"\n",
        "\n",
        "    distances, indices = model.kneighbors(\n",
        "        user_book_matrix.iloc[book_idx, :].values.reshape(1, -1), n_neighbors=6\n",
        "    )\n",
        "\n",
        "    recommended_books = []\n",
        "    for i in range(1, 6):\n",
        "        neighbor_isbn = user_book_matrix.index[indices[0][i]]\n",
        "        neighbor_title = book_titles[neighbor_isbn]\n",
        "        distance = distances[0][i]\n",
        "        recommended_books.append([neighbor_title, distance])\n",
        "\n",
        "    return [book_title, recommended_books]\n"
      ]
    }
  ],
  "metadata": {
    "colab": {
      "name": "fcc_book_recommendation_knn.ipynb",
      "provenance": []
    },
    "kernelspec": {
      "display_name": "Python 3",
      "language": "python",
      "name": "python3"
    },
    "language_info": {
      "codemirror_mode": {
        "name": "ipython",
        "version": 3
      },
      "file_extension": ".py",
      "mimetype": "text/x-python",
      "name": "python",
      "nbconvert_exporter": "python",
      "pygments_lexer": "ipython3",
      "version": "3.6.5"
    }
  },
  "nbformat": 4,
  "nbformat_minor": 0
}